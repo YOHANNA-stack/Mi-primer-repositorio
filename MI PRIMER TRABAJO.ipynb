{
 "cells": [
  {
   "cell_type": "markdown",
   "id": "b4febe83-8e2f-4b68-b513-da4fa4ee0b0d",
   "metadata": {},
   "source": [
    "# Mi Cuaderno de Prueba"
   ]
  },
  {
   "cell_type": "markdown",
   "id": "7b09d93a-59aa-4f37-8a58-d9d37714af53",
   "metadata": {},
   "source": [
    "## Introducción\n",
    "\n",
    "Bienvenido a este cuaderno de ejemplo. En este cuaderno, exploraremos diversos conceptos de programación y análisis de datos utilizando Python y Jupyter Notebook. A lo largo de este cuaderno, encontrarás ejemplos prácticos y explicaciones detalladas para ayudarte a comprender mejor los temas tratados.\n",
    "\n",
    "¡Espero que disfrutes aprendiendo y explorando!"
   ]
  },
  {
   "cell_type": "markdown",
   "id": "390c255f-a78e-4338-9fab-0c6d06d745a0",
   "metadata": {},
   "source": [
    "## Lenguajes de la Ciencia de Datos\n",
    "\n",
    "En la ciencia de datos, se utilizan varios lenguajes de programación para realizar análisis, visualizaciones y modelado de datos. Algunos de los lenguajes más comunes son:\n",
    "\n",
    "1. **Python**: Es uno de los lenguajes más populares en la ciencia de datos debido a su facilidad de uso y a la gran cantidad de bibliotecas especializadas disponibles, como NumPy, pandas, Matplotlib y scikit-learn.\n",
    "\n",
    "2. **R**: Otro lenguaje muy utilizado en la ciencia de datos, especialmente en estadísticas y análisis de datos. R cuenta con una amplia variedad de paquetes diseñados específicamente para la visualización y el modelado estadístico.\n",
    "\n",
    "3. **SQL**: Aunque técnicamente no es un lenguaje de programación en el sentido tradicional, SQL (Structured Query Language) es esencial para trabajar con bases de datos relacionales, lo cual es fundamental en muchos proyectos de ciencia de datos.\n",
    "\n",
    "4. **Julia**: Un lenguaje de programación relativamente nuevo que está ganando popularidad en la comunidad de la ciencia de datos debido a su velocidad y capacidad para realizar cálculos numéricos de manera eficiente.\n",
    "\n",
    "5. **Scala**: Aunque no tan común como Python o R, Scala es utilizado en entornos de big data gracias a su integración con Apache Spark, un marco de trabajo muy popular para el procesamiento distribuido de datos.\n",
    "\n",
    "Estos son solo algunos ejemplos de los lenguajes utilizados en la ciencia de datos, y la elección del lenguaje adecuado a menudo depende de los requisitos específicos del proyecto y las preferencias del equipo de trabajo.\n"
   ]
  },
  {
   "cell_type": "markdown",
   "id": "d9c0bec0-40b5-40bf-a576-11699262b0c6",
   "metadata": {},
   "source": [
    "## Bibliotecas de Ciencia de Datos\n",
    "\n",
    "En la ciencia de datos, se utilizan una amplia variedad de bibliotecas especializadas para realizar análisis, visualizaciones y modelado de datos. Algunas de las bibliotecas más populares son:\n",
    "\n",
    "- **NumPy**: NumPy es una biblioteca fundamental para computación científica en Python. Proporciona estructuras de datos de matriz multidimensional, así como funciones para realizar operaciones matemáticas en estas matrices de manera eficiente.\n",
    "\n",
    "- **pandas**: pandas es una biblioteca de Python que ofrece estructuras de datos y herramientas de análisis de datos fáciles de usar. Es especialmente útil para manipular y analizar datos tabulares, como los que se encuentran en hojas de cálculo y bases de datos relacionales.\n",
    "\n",
    "- **Matplotlib**: Matplotlib es una biblioteca de visualización de datos en Python que permite crear una amplia variedad de gráficos y visualizaciones, desde simples gráficos de líneas hasta gráficos 3D avanzados.\n",
    "\n",
    "- **Seaborn**: Seaborn es una biblioteca de visualización de datos basada en Matplotlib que ofrece una interfaz de alto nivel para crear gráficos estadísticos atractivos y informativos.\n",
    "\n",
    "- **scikit-learn**: scikit-learn es una biblioteca de aprendizaje automático en Python que proporciona herramientas simples y eficientes para el análisis predictivo y el modelado estadístico. Incluye una amplia gama de algoritmos de aprendizaje supervisado y no supervisado.\n",
    "\n",
    "- **TensorFlow y PyTorch**: Estas son bibliotecas de aprendizaje profundo en Python que permiten construir y entrenar redes neuronales para una variedad de tareas, como reconocimiento de imágenes, procesamiento de lenguaje natural y más.\n",
    "\n"
   ]
  },
  {
   "cell_type": "markdown",
   "id": "0a9ec69a-ea90-47b2-adb1-84cb493f6360",
   "metadata": {},
   "source": [
    "## Herramientas de Ciencia de Datos\n",
    "\n",
    "| Herramienta       | Descripción                                                                                     |\n",
    "|-------------------|-------------------------------------------------------------------------------------------------|\n",
    "| Jupyter Notebook  | Un entorno interactivo de desarrollo que permite escribir y ejecutar código en diferentes lenguajes, incluyendo Python, R y Julia, así como crear visualizaciones y documentar procesos. |\n",
    "| RStudio           | Un entorno integrado de desarrollo (IDE) diseñado específicamente para trabajar con el lenguaje de programación R, que ofrece funciones avanzadas para análisis estadístico y visualización de datos. |\n",
    "| Spyder            | Un IDE de Python que proporciona una interfaz similar a MATLAB y está especialmente diseñado para análisis numérico y científico, con características como la exploración de variables, la depuración y la integración con bibliotecas como NumPy y pandas. |\n",
    "| VS Code + Extensions | Visual Studio Code (VS Code) es un editor de código ligero y altamente personalizable que ofrece una amplia variedad de extensiones para el desarrollo en ciencia de datos, incluyendo soporte para Python, R, Jupyter Notebooks, y más. |\n",
    "| MATLAB            | Un entorno de programación y lenguaje de programación utilizado principalmente en ingeniería y ciencias aplicadas, que ofrece herramientas para análisis numérico, modelado matemático, simulación y más. |\n",
    "| Tableau           | Una plataforma de visualización de datos que permite a los usuarios crear gráficos interactivos, dashboards y presentaciones basadas en datos de manera intuitiva, sin necesidad de escribir código. |\n",
    "| Apache Spark      | Un marco de trabajo de computación distribuida diseñado para análisis de datos a gran escala, que ofrece APIs en varios lenguajes, incluyendo Python y Scala, así como módulos para procesamiento de datos en streaming y machine learning. |\n",
    "| TensorFlow        | Una biblioteca de código abierto para aprendizaje automático desarrollada por Google, que ofrece herramientas para construir y entrenar redes neuronales, así como implementar modelos en una variedad de plataformas. |\n",
    "| PyTorch           | Una biblioteca de aprendizaje profundo de código abierto desarrollada por Facebook, que proporciona una interfaz flexible y eficiente para la construcción y entrenamiento de modelos de redes neuronales. |\n"
   ]
  },
  {
   "cell_type": "markdown",
   "id": "7f9dae61-d23b-453d-a2d7-9a576250a45c",
   "metadata": {},
   "source": [
    "## Ejemplos de Expresiones Aritméticas\n",
    "\n",
    "1. Suma: `2 + 3 = 5`\n",
    "2. Resta: `5 - 2 = 3`\n",
    "3. Multiplicación: `4 * 6 = 24`\n",
    "4. División: `8 / 2 = 4`\n",
    "5. Exponenciación: `2 ** 3 = 8` (2 elevado a la potencia de 3)\n",
    "6. Raíz cuadrada: `√(9) = 3`\n",
    "7. Paréntesis: `(4 + 3) * 2 = 14` (primer se realiza la suma dentro del paréntesis y luego se multiplica por 2)\n",
    "8. Operaciones mixtas: `(10 + 5) * 2 / 3 = 10` (suma, multiplicación y división en una sola expresión)\n"
   ]
  },
  {
   "cell_type": "code",
   "execution_count": 4,
   "id": "451214f4-8d99-4406-bb9b-6f29f840beb9",
   "metadata": {
    "tags": []
   },
   "outputs": [
    {
     "name": "stdout",
     "output_type": "stream",
     "text": [
      "El resultado de la multiplicación es: 15\n",
      "El resultado de la suma es: 8\n"
     ]
    }
   ],
   "source": [
    "# Definir los números a multiplicar y sumar\n",
    "numero1 = 5\n",
    "numero2 = 3\n",
    "\n",
    "# Realizar la multiplicación\n",
    "resultado_multiplicacion = numero1 * numero2\n",
    "\n",
    "# Realizar la suma\n",
    "resultado_suma = numero1 + numero2\n",
    "\n",
    "# Imprimir los resultados\n",
    "print(\"El resultado de la multiplicación es:\", resultado_multiplicacion)\n",
    "print(\"El resultado de la suma es:\", resultado_suma)"
   ]
  },
  {
   "cell_type": "code",
   "execution_count": 5,
   "id": "f628c014-3fcc-4e44-b84b-d3eefc20daa3",
   "metadata": {
    "tags": []
   },
   "outputs": [
    {
     "name": "stdout",
     "output_type": "stream",
     "text": [
      "135 minutos son equivalentes a 2.25 horas\n"
     ]
    }
   ],
   "source": [
    "# Definir la cantidad de minutos\n",
    "minutos = 135\n",
    "\n",
    "# Convertir minutos a horas\n",
    "horas = minutos / 60\n",
    "\n",
    "# Imprimir el resultado\n",
    "print(minutos, \"minutos son equivalentes a\", horas, \"horas\")"
   ]
  },
  {
   "cell_type": "code",
   "execution_count": 6,
   "id": "a0a3760f-8b6a-40f1-bda3-cfa84ec59368",
   "metadata": {
    "tags": []
   },
   "outputs": [
    {
     "name": "stdout",
     "output_type": "stream",
     "text": [
      "Objetivos:\n",
      "- Aprender Python\n",
      "- Dominar el análisis de datos\n",
      "- Mejorar mis habilidades de programación\n",
      "- Aplicar técnicas de aprendizaje automático\n",
      "- Contribuir a proyectos de código abierto\n",
      "- Desarrollar aplicaciones web\n",
      "- Explorar nuevas tecnologías\n",
      "- Completar un proyecto personal\n",
      "- Participar en competencias de programación\n"
     ]
    }
   ],
   "source": [
    "# Lista de objetivos\n",
    "objetivos = [\n",
    "    \"Aprender Python\",\n",
    "    \"Dominar el análisis de datos\",\n",
    "    \"Mejorar mis habilidades de programación\",\n",
    "    \"Aplicar técnicas de aprendizaje automático\",\n",
    "    \"Contribuir a proyectos de código abierto\",\n",
    "    \"Desarrollar aplicaciones web\",\n",
    "    \"Explorar nuevas tecnologías\",\n",
    "    \"Completar un proyecto personal\",\n",
    "    \"Participar en competencias de programación\"\n",
    "]\n",
    "\n",
    "# Imprimir los objetivos\n",
    "print(\"Objetivos:\")\n",
    "for objetivo in objetivos:\n",
    "    print(\"-\", objetivo)"
   ]
  },
  {
   "cell_type": "markdown",
   "id": "5e25529e-3284-484e-9fbb-ebc5015360a6",
   "metadata": {},
   "source": [
    "## Autor\n",
    "\n",
    "Este cuaderno fue creado por YOHANNA."
   ]
  }
 ],
 "metadata": {
  "kernelspec": {
   "display_name": "Python",
   "language": "python",
   "name": "conda-env-python-py"
  },
  "language_info": {
   "codemirror_mode": {
    "name": "ipython",
    "version": 3
   },
   "file_extension": ".py",
   "mimetype": "text/x-python",
   "name": "python",
   "nbconvert_exporter": "python",
   "pygments_lexer": "ipython3",
   "version": "3.7.12"
  }
 },
 "nbformat": 4,
 "nbformat_minor": 5
}
